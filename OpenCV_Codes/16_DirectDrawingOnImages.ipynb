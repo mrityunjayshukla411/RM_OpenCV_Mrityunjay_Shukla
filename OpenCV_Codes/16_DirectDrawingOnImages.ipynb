{
 "cells": [
  {
   "cell_type": "code",
   "execution_count": 1,
   "id": "e14ef588",
   "metadata": {},
   "outputs": [],
   "source": [
    "import cv2\n",
    "import numpy as np\n",
    "\n",
    "def drawCircle(event,x,y,flags,param):\n",
    "    if event == cv2.EVENT_LBUTTONDOWN: \n",
    "        cv2.circle(img,(x,y),100,(0,0,255),-1)\n",
    "cv2.namedWindow(winame='Mydrawing')\n",
    "cv2.setMouseCallback('Mydrawing',drawCircle)\n",
    "\n",
    "img = np.zeros((512,512,3),np.int8)\n",
    "while True:\n",
    "    cv2.imshow('Mydrawing',img)\n",
    "    if cv2.waitKey(20) & 0xFF == 27:\n",
    "        break\n",
    "cv2.destroyAllWindows()"
   ]
  }
 ],
 "metadata": {
  "kernelspec": {
   "display_name": "Python 3 (ipykernel)",
   "language": "python",
   "name": "python3"
  },
  "language_info": {
   "codemirror_mode": {
    "name": "ipython",
    "version": 3
   },
   "file_extension": ".py",
   "mimetype": "text/x-python",
   "name": "python",
   "nbconvert_exporter": "python",
   "pygments_lexer": "ipython3",
   "version": "3.6.6"
  }
 },
 "nbformat": 4,
 "nbformat_minor": 5
}
